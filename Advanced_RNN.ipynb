{
  "nbformat": 4,
  "nbformat_minor": 0,
  "metadata": {
    "kernelspec": {
      "display_name": "Python 3",
      "language": "python",
      "name": "python3"
    },
    "language_info": {
      "codemirror_mode": {
        "name": "ipython",
        "version": 3
      },
      "file_extension": ".py",
      "mimetype": "text/x-python",
      "name": "python",
      "nbconvert_exporter": "python",
      "pygments_lexer": "ipython3",
      "version": "3.6.0"
    },
    "colab": {
      "name": "Advanced_RNN.ipynb",
      "provenance": [],
      "collapsed_sections": []
    },
    "accelerator": "GPU"
  },
  "cells": [
    {
      "cell_type": "markdown",
      "metadata": {
        "id": "JU2aZXbazwRI"
      },
      "source": [
        "# Advanced RNN "
      ]
    },
    {
      "cell_type": "markdown",
      "metadata": {
        "id": "_DTyJ4hGzwRJ"
      },
      "source": [
        "## Load Dataset\n",
        "- [CIFAR-10 dataset](https://www.cs.toronto.edu/~kriz/cifar.html)"
      ]
    },
    {
      "cell_type": "code",
      "metadata": {
        "id": "Erxv1GaizwRJ"
      },
      "source": [
        "import numpy as np\n",
        "\n",
        "from sklearn.metrics import accuracy_score\n",
        "from tensorflow.keras.datasets import cifar10\n",
        "from tensorflow.keras.utils import to_categorical"
      ],
      "execution_count": 1,
      "outputs": []
    },
    {
      "cell_type": "code",
      "metadata": {
        "id": "-zI9cKw3zwRN",
        "colab": {
          "base_uri": "https://localhost:8080/"
        },
        "outputId": "7438cc5b-9325-47ec-991e-5ff3e64c2118"
      },
      "source": [
        "(X_train, y_train), (X_test, y_test) = cifar10.load_data()"
      ],
      "execution_count": 2,
      "outputs": [
        {
          "output_type": "stream",
          "text": [
            "Downloading data from https://www.cs.toronto.edu/~kriz/cifar-10-python.tar.gz\n",
            "170500096/170498071 [==============================] - 4s 0us/step\n"
          ],
          "name": "stdout"
        }
      ]
    },
    {
      "cell_type": "code",
      "metadata": {
        "id": "HFrVoRbtzwRQ"
      },
      "source": [
        "y_train = to_categorical(y_train)\n",
        "y_test = to_categorical(y_test)"
      ],
      "execution_count": 3,
      "outputs": []
    },
    {
      "cell_type": "code",
      "metadata": {
        "id": "XnEGNzaFzwRS",
        "colab": {
          "base_uri": "https://localhost:8080/"
        },
        "outputId": "aafaf8f3-b1df-49b3-b1e6-bd2335350ab4"
      },
      "source": [
        "print(X_train.shape)\n",
        "print(X_test.shape)\n",
        "print(y_train.shape)\n",
        "print(y_test.shape)"
      ],
      "execution_count": 4,
      "outputs": [
        {
          "output_type": "stream",
          "text": [
            "(50000, 32, 32, 3)\n",
            "(10000, 32, 32, 3)\n",
            "(50000, 10)\n",
            "(10000, 10)\n"
          ],
          "name": "stdout"
        }
      ]
    },
    {
      "cell_type": "markdown",
      "metadata": {
        "id": "FTINdJS0zwRW"
      },
      "source": [
        "## 1. CNN-RNN\n",
        "- Perform convolution & pooling operation first, and then perform recurrent operation\n",
        "- Similar to the structure used in image captioning\n",
        "\n",
        "<img src=\"https://raw.githubusercontent.com/aravind-naidu/Advanced-RNN/main/CNN-RNN-2.png\" style=\"width: 600px\"/>"
      ]
    },
    {
      "cell_type": "code",
      "metadata": {
        "id": "kVAWlOzDzwRX"
      },
      "source": [
        "from tensorflow.keras.models import Sequential, Model\n",
        "from tensorflow.keras.layers import Conv2D, MaxPooling2D, Flatten, Dense, LSTM, Input, Activation, Reshape, concatenate\n",
        "from tensorflow.keras import optimizers"
      ],
      "execution_count": 5,
      "outputs": []
    },
    {
      "cell_type": "code",
      "metadata": {
        "id": "pi6njpn_zwRZ"
      },
      "source": [
        "model = Sequential()"
      ],
      "execution_count": 6,
      "outputs": []
    },
    {
      "cell_type": "code",
      "metadata": {
        "id": "rHejz1euzwRc"
      },
      "source": [
        "model.add(Conv2D(input_shape = (X_train.shape[1], X_train.shape[2], X_train.shape[3]), filters = 50, kernel_size = (3,3), strides = (1,1), padding = 'same'))\n",
        "model.add(Activation('relu'))\n",
        "model.add(MaxPooling2D(pool_size = (2,2)))"
      ],
      "execution_count": 7,
      "outputs": []
    },
    {
      "cell_type": "code",
      "metadata": {
        "scrolled": true,
        "id": "nCHnoBgLzwRe",
        "colab": {
          "base_uri": "https://localhost:8080/"
        },
        "outputId": "d4165369-f7f2-4aac-eaee-fcfb46a2c5e4"
      },
      "source": [
        "print(model.output_shape)"
      ],
      "execution_count": 8,
      "outputs": [
        {
          "output_type": "stream",
          "text": [
            "(None, 16, 16, 50)\n"
          ],
          "name": "stdout"
        }
      ]
    },
    {
      "cell_type": "code",
      "metadata": {
        "id": "iHkgbI5CzwRh"
      },
      "source": [
        "model.add(Reshape(target_shape = (16*16, 50)))"
      ],
      "execution_count": 9,
      "outputs": []
    },
    {
      "cell_type": "code",
      "metadata": {
        "id": "DFyyVKHDzwRk"
      },
      "source": [
        "model.add(LSTM(50, return_sequences = False))"
      ],
      "execution_count": 10,
      "outputs": []
    },
    {
      "cell_type": "code",
      "metadata": {
        "id": "F0LPgWqyzwRm"
      },
      "source": [
        "model.add(Dense(10))\n",
        "model.add(Activation('softmax'))"
      ],
      "execution_count": 11,
      "outputs": []
    },
    {
      "cell_type": "code",
      "metadata": {
        "id": "Ek2Saps_zwRo"
      },
      "source": [
        "adam = optimizers.Adam(lr = 0.001)\n",
        "model.compile(loss = 'categorical_crossentropy', optimizer = adam, metrics = ['accuracy'])"
      ],
      "execution_count": 12,
      "outputs": []
    },
    {
      "cell_type": "code",
      "metadata": {
        "scrolled": true,
        "id": "KoYSyDtkzwRr",
        "colab": {
          "base_uri": "https://localhost:8080/"
        },
        "outputId": "a50749be-7430-4b39-f383-1f167cd1fb17"
      },
      "source": [
        "print(model.summary())"
      ],
      "execution_count": 13,
      "outputs": [
        {
          "output_type": "stream",
          "text": [
            "Model: \"sequential\"\n",
            "_________________________________________________________________\n",
            "Layer (type)                 Output Shape              Param #   \n",
            "=================================================================\n",
            "conv2d (Conv2D)              (None, 32, 32, 50)        1400      \n",
            "_________________________________________________________________\n",
            "activation (Activation)      (None, 32, 32, 50)        0         \n",
            "_________________________________________________________________\n",
            "max_pooling2d (MaxPooling2D) (None, 16, 16, 50)        0         \n",
            "_________________________________________________________________\n",
            "reshape (Reshape)            (None, 256, 50)           0         \n",
            "_________________________________________________________________\n",
            "lstm (LSTM)                  (None, 50)                20200     \n",
            "_________________________________________________________________\n",
            "dense (Dense)                (None, 10)                510       \n",
            "_________________________________________________________________\n",
            "activation_1 (Activation)    (None, 10)                0         \n",
            "=================================================================\n",
            "Total params: 22,110\n",
            "Trainable params: 22,110\n",
            "Non-trainable params: 0\n",
            "_________________________________________________________________\n",
            "None\n"
          ],
          "name": "stdout"
        }
      ]
    },
    {
      "cell_type": "code",
      "metadata": {
        "scrolled": true,
        "id": "LpAHnm_OzwRt",
        "colab": {
          "base_uri": "https://localhost:8080/"
        },
        "outputId": "a2d0cb5e-e3db-48fe-e79b-79ae6531caa0"
      },
      "source": [
        "%%time\n",
        "history = model.fit(X_train, y_train, epochs = 100, batch_size = 100, verbose = 0)"
      ],
      "execution_count": 14,
      "outputs": [
        {
          "output_type": "stream",
          "text": [
            "CPU times: user 8min 42s, sys: 22.5 s, total: 9min 4s\n",
            "Wall time: 8min 27s\n"
          ],
          "name": "stdout"
        }
      ]
    },
    {
      "cell_type": "code",
      "metadata": {
        "id": "0QuOgXr7zwRw",
        "colab": {
          "base_uri": "https://localhost:8080/"
        },
        "outputId": "694e5308-0c57-4ffb-f5fe-8996c4bd038c"
      },
      "source": [
        "results = model.evaluate(X_test, y_test)"
      ],
      "execution_count": 15,
      "outputs": [
        {
          "output_type": "stream",
          "text": [
            "313/313 [==============================] - 2s 6ms/step - loss: 1.0104 - accuracy: 0.6438\n"
          ],
          "name": "stdout"
        }
      ]
    },
    {
      "cell_type": "code",
      "metadata": {
        "id": "kpDJEMTyzwRz",
        "colab": {
          "base_uri": "https://localhost:8080/"
        },
        "outputId": "da9219cb-4838-401c-cb5d-ece39f436f83"
      },
      "source": [
        "print('Test Accuracy: ', results[1])"
      ],
      "execution_count": 16,
      "outputs": [
        {
          "output_type": "stream",
          "text": [
            "Test Accuracy:  0.6438000202178955\n"
          ],
          "name": "stdout"
        }
      ]
    },
    {
      "cell_type": "markdown",
      "metadata": {
        "id": "3NTYOF3TzwR1"
      },
      "source": [
        "## 2. CNN-RNN-2\n",
        "- Perform convolution-pooling operations and recurrent operations independently, and sum their results up\n",
        "- Similar to the structure used in visual question answering\n",
        "\n",
        "<img src=\"https://raw.githubusercontent.com/aravind-naidu/Advanced-RNN/main/CNN-RNN.png\" style=\"width: 800px\"/>"
      ]
    },
    {
      "cell_type": "code",
      "metadata": {
        "id": "hccFJ_JOzwR1"
      },
      "source": [
        "input_layer = Input(shape = (X_train.shape[1], X_train.shape[2], X_train.shape[3]))\n",
        "conv_layer = Conv2D(filters = 50, kernel_size = (3,3), strides = (1,1), padding = 'same')(input_layer)\n",
        "activation_layer = Activation('relu')(conv_layer)\n",
        "pooling_layer = MaxPooling2D(pool_size = (2,2), padding = 'same')(activation_layer)\n",
        "flatten = Flatten()(pooling_layer)\n",
        "dense_layer_1 = Dense(100)(flatten)"
      ],
      "execution_count": 17,
      "outputs": []
    },
    {
      "cell_type": "code",
      "metadata": {
        "id": "wVnE6UPIzwR4"
      },
      "source": [
        "reshape = Reshape(target_shape = (X_train.shape[1]*X_train.shape[2], X_train.shape[3]))(input_layer)\n",
        "lstm_layer = LSTM(50, return_sequences = False)(reshape)\n",
        "dense_layer_2 = Dense(100)(lstm_layer)"
      ],
      "execution_count": 18,
      "outputs": []
    },
    {
      "cell_type": "code",
      "metadata": {
        "id": "X0B4ENiqzwR-"
      },
      "source": [
        "merged_layer = concatenate([dense_layer_1, dense_layer_2])"
      ],
      "execution_count": 19,
      "outputs": []
    },
    {
      "cell_type": "code",
      "metadata": {
        "id": "Wnc6oyOAzwSA"
      },
      "source": [
        "output_layer = Dense(10, activation = 'softmax')(merged_layer)"
      ],
      "execution_count": 20,
      "outputs": []
    },
    {
      "cell_type": "code",
      "metadata": {
        "id": "5zTGrzrQzwSD"
      },
      "source": [
        "model = Model(inputs = input_layer, outputs = output_layer)"
      ],
      "execution_count": 21,
      "outputs": []
    },
    {
      "cell_type": "code",
      "metadata": {
        "id": "5dCrdNW7zwSF"
      },
      "source": [
        "adam = optimizers.Adam(lr = 0.001)\n",
        "model.compile(loss = 'categorical_crossentropy', optimizer = adam, metrics = ['accuracy'])"
      ],
      "execution_count": 22,
      "outputs": []
    },
    {
      "cell_type": "code",
      "metadata": {
        "scrolled": true,
        "id": "NLeA_ZCYzwSI",
        "colab": {
          "base_uri": "https://localhost:8080/"
        },
        "outputId": "18aff0d7-cee7-43da-d883-fe7548d95baf"
      },
      "source": [
        "print(model.summary())"
      ],
      "execution_count": 23,
      "outputs": [
        {
          "output_type": "stream",
          "text": [
            "Model: \"model\"\n",
            "__________________________________________________________________________________________________\n",
            "Layer (type)                    Output Shape         Param #     Connected to                     \n",
            "==================================================================================================\n",
            "input_1 (InputLayer)            [(None, 32, 32, 3)]  0                                            \n",
            "__________________________________________________________________________________________________\n",
            "conv2d_1 (Conv2D)               (None, 32, 32, 50)   1400        input_1[0][0]                    \n",
            "__________________________________________________________________________________________________\n",
            "activation_2 (Activation)       (None, 32, 32, 50)   0           conv2d_1[0][0]                   \n",
            "__________________________________________________________________________________________________\n",
            "max_pooling2d_1 (MaxPooling2D)  (None, 16, 16, 50)   0           activation_2[0][0]               \n",
            "__________________________________________________________________________________________________\n",
            "reshape_1 (Reshape)             (None, 1024, 3)      0           input_1[0][0]                    \n",
            "__________________________________________________________________________________________________\n",
            "flatten (Flatten)               (None, 12800)        0           max_pooling2d_1[0][0]            \n",
            "__________________________________________________________________________________________________\n",
            "lstm_1 (LSTM)                   (None, 50)           10800       reshape_1[0][0]                  \n",
            "__________________________________________________________________________________________________\n",
            "dense_1 (Dense)                 (None, 100)          1280100     flatten[0][0]                    \n",
            "__________________________________________________________________________________________________\n",
            "dense_2 (Dense)                 (None, 100)          5100        lstm_1[0][0]                     \n",
            "__________________________________________________________________________________________________\n",
            "concatenate (Concatenate)       (None, 200)          0           dense_1[0][0]                    \n",
            "                                                                 dense_2[0][0]                    \n",
            "__________________________________________________________________________________________________\n",
            "dense_3 (Dense)                 (None, 10)           2010        concatenate[0][0]                \n",
            "==================================================================================================\n",
            "Total params: 1,299,410\n",
            "Trainable params: 1,299,410\n",
            "Non-trainable params: 0\n",
            "__________________________________________________________________________________________________\n",
            "None\n"
          ],
          "name": "stdout"
        }
      ]
    },
    {
      "cell_type": "code",
      "metadata": {
        "id": "1sMZhtN8zwSK",
        "colab": {
          "base_uri": "https://localhost:8080/"
        },
        "outputId": "0cc28708-b1ec-4e5f-e3be-ea6dedefe9e7"
      },
      "source": [
        "%%time\n",
        "history = model.fit(X_train, y_train, epochs = 10, batch_size = 100, verbose = 0)"
      ],
      "execution_count": 24,
      "outputs": [
        {
          "output_type": "stream",
          "text": [
            "CPU times: user 2min 49s, sys: 3.53 s, total: 2min 53s\n",
            "Wall time: 2min 54s\n"
          ],
          "name": "stdout"
        }
      ]
    },
    {
      "cell_type": "code",
      "metadata": {
        "id": "Y9HtR-pxzwSO",
        "colab": {
          "base_uri": "https://localhost:8080/"
        },
        "outputId": "684b7511-ecf0-4acc-d71d-ae1addbc4d47"
      },
      "source": [
        "results = model.evaluate(X_test, y_test)"
      ],
      "execution_count": 25,
      "outputs": [
        {
          "output_type": "stream",
          "text": [
            "313/313 [==============================] - 5s 15ms/step - loss: 1.8398 - accuracy: 0.4825\n"
          ],
          "name": "stdout"
        }
      ]
    },
    {
      "cell_type": "code",
      "metadata": {
        "id": "ui3jBm3-zwSU",
        "colab": {
          "base_uri": "https://localhost:8080/"
        },
        "outputId": "1d238cb9-240c-45f1-9aee-bd85058f0e5a"
      },
      "source": [
        "print('Test Accuracy: ', results[1])"
      ],
      "execution_count": 26,
      "outputs": [
        {
          "output_type": "stream",
          "text": [
            "Test Accuracy:  0.48249998688697815\n"
          ],
          "name": "stdout"
        }
      ]
    }
  ]
}